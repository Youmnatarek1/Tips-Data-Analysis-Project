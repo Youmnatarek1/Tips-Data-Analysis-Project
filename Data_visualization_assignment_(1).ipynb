{
  "nbformat": 4,
  "nbformat_minor": 0,
  "metadata": {
    "colab": {
      "private_outputs": true,
      "provenance": []
    },
    "kernelspec": {
      "name": "python3",
      "display_name": "Python 3"
    },
    "language_info": {
      "name": "python"
    }
  },
  "cells": [
    {
      "cell_type": "markdown",
      "source": [
        "# Exercise 1: Load the Tips Dataset\n",
        "- Import the necessary libraries (seaborn, matplotlib.pyplot, and pandas).\n",
        "- Load the Tips dataset from Seaborn."
      ],
      "metadata": {
        "id": "EOJY5OG1NBwU"
      }
    },
    {
      "cell_type": "code",
      "source": [
        "import pandas as pd\n",
        "import numpy as np\n",
        "import seaborn as sns\n",
        "import matplotlib.pyplot as plt\n",
        "import plotly.express as px"
      ],
      "metadata": {
        "id": "6FY7GzQ9Rdha"
      },
      "execution_count": null,
      "outputs": []
    },
    {
      "cell_type": "code",
      "source": [
        "df= pd.read_csv(\"/content/tips.csv\")"
      ],
      "metadata": {
        "id": "V5YAnSFnRkui"
      },
      "execution_count": null,
      "outputs": []
    },
    {
      "cell_type": "code",
      "source": [
        "df"
      ],
      "metadata": {
        "id": "IJz2rSEPSBGJ"
      },
      "execution_count": null,
      "outputs": []
    },
    {
      "cell_type": "markdown",
      "source": [
        "# Exercise 2: Scatter Plot"
      ],
      "metadata": {
        "id": "tFwa7RjkNJLR"
      }
    },
    {
      "cell_type": "markdown",
      "source": [
        "- Create a scatter plot using Seaborn to visualize the relationship between total_bill and tip.\n",
        "\n",
        "- Add different colors for different days of the week."
      ],
      "metadata": {
        "id": "VWfi4cv1NL7L"
      }
    },
    {
      "cell_type": "code",
      "source": [
        "#scatterplot\n",
        "sns.scatterplot(x=df[\"total_bill\"], y =df[\"tip\"] )\n",
        "plt.show()"
      ],
      "metadata": {
        "id": "yfIBFPrMR2iW"
      },
      "execution_count": null,
      "outputs": []
    },
    {
      "cell_type": "code",
      "source": [
        "sns.scatterplot(x=df[\"total_bill\"],\n",
        "                y=df[\"tip\"],\n",
        "                hue=df[\"day\"],\n",
        "                palette=\"tab10\")\n",
        "\n",
        "# Add title and labels\n",
        "plt.title(\"Relationship Between Total Bill and Tip by Day\", fontsize=14)\n",
        "plt.xlabel(\"Total Bill\", fontsize=12)\n",
        "plt.ylabel(\"Tip\", fontsize=12)\n",
        "\n",
        "# Show legend and plot\n",
        "plt.legend(title=\"Day of the Week\", fontsize=10)\n",
        "plt.show()"
      ],
      "metadata": {
        "id": "fAiTZYg0SkUy"
      },
      "execution_count": null,
      "outputs": []
    },
    {
      "cell_type": "markdown",
      "source": [
        "# Exercise 3: Histogram\n",
        "- Create a histogram of the total_bill column using Matplotlib.\n"
      ],
      "metadata": {
        "id": "0kyjBC-sNYLT"
      }
    },
    {
      "cell_type": "code",
      "source": [
        "plt.figure(figsize=(15,5))\n",
        "plt.subplot (1,2,1)\n",
        "plt.hist(df[\"total_bill\"])\n",
        "plt.show()"
      ],
      "metadata": {
        "id": "5sl69HOFSwZP"
      },
      "execution_count": null,
      "outputs": []
    },
    {
      "cell_type": "markdown",
      "source": [
        "# Exercise 4: Heatmap\n",
        "- Create a heatmap of the correlation matrix of the numerical columns in the Tips dataset using Seaborn."
      ],
      "metadata": {
        "id": "mZV8Zt2pNjzV"
      }
    },
    {
      "cell_type": "code",
      "source": [
        "plt.figure(figsize =(8,6))\n",
        "corr=df.corr(numeric_only=True)\n",
        "sns.heatmap(corr,annot=True)\n",
        "\n",
        "# Show plot\n",
        "plt.show()"
      ],
      "metadata": {
        "id": "hCitdwWUTMK8"
      },
      "execution_count": null,
      "outputs": []
    },
    {
      "cell_type": "markdown",
      "source": [
        "# Exercise 5: Bar Plot\n",
        "- Create a bar plot to show the average tip amount for each day using Seaborn."
      ],
      "metadata": {
        "id": "lgVFk_g6NyJd"
      }
    },
    {
      "cell_type": "code",
      "source": [
        "sns.barplot(x=df['day'], y=df['tip'],errorbar=('ci', False),hue=df['smoker'])"
      ],
      "metadata": {
        "id": "vCXlWMtmT_4Y"
      },
      "execution_count": null,
      "outputs": []
    },
    {
      "cell_type": "markdown",
      "source": [
        "# Exercise 6: Line Plot\n",
        "- Create a line plot to show the trend of tip amount over total_bill using Matplotlib."
      ],
      "metadata": {
        "id": "rxYL55rlODkd"
      }
    },
    {
      "cell_type": "code",
      "source": [
        "tips_sorted = df.sort_values(by ='total_bill')\n",
        "plt.plot(tips_sorted[\"total_bill\"], tips_sorted[\"tip\"], marker='^', linestyle='--', color='b')\n",
        "\n",
        "# Adding labels and title\n",
        "plt.title('Line plot Total Bill vs Tip (Sorted)')\n",
        "plt.xlabel('Total Bill')\n",
        "plt.ylabel('Tip')\n",
        "\n",
        "# Display the plot\n",
        "plt.show()"
      ],
      "metadata": {
        "id": "MeQs2LqQV7i9"
      },
      "execution_count": null,
      "outputs": []
    },
    {
      "cell_type": "code",
      "source": [
        "sns.lineplot(x = df[\"total_bill\"], y= df[\"tip\"])\n",
        "plt.show()"
      ],
      "metadata": {
        "id": "2k9hIsL0bEx4"
      },
      "execution_count": null,
      "outputs": []
    },
    {
      "cell_type": "markdown",
      "source": [
        "# Exercise 7: Scatter Plots with Subplots\n",
        "- Create a figure with two subplots (1 row, 2 columns).\n",
        "- In the first subplot, create a scatter plot of total_bill vs tip.\n",
        "- In the second subplot, create a scatter plot of total_bill vs size."
      ],
      "metadata": {
        "id": "baPshpjGOZdz"
      }
    },
    {
      "cell_type": "code",
      "source": [
        "# plt.figure(figsize=(15,5))\n",
        "# Adding labels and title : scatter plot of total_bill vs tip\n",
        "plt.subplot (1,2,1)\n",
        "plt.scatter(x= df[\"total_bill\"], y = df[\"tip\"])\n",
        "plt.title('Line plot Total Bill vs Tip')\n",
        "plt.xlabel('Total Bill')\n",
        "plt.ylabel('Tip')\n",
        "\n",
        "\n",
        "# Adding labels and title :  scatter plot of total_bill vs size\n",
        "plt.subplot(1,2,2)\n",
        "plt.scatter(x = df[\"total_bill\"], y= df[\"size\"])\n",
        "plt.title('Line plot Total Bill vs size')\n",
        "plt.xlabel('Total Bill')\n",
        "plt.ylabel('size')\n",
        "\n",
        "\n",
        "#adjust layout\n",
        "plt.tight_layout(w_pad = 5)\n",
        "\n",
        "#show thw plots\n",
        "plt.show()"
      ],
      "metadata": {
        "id": "CxjK5fuAbc2c"
      },
      "execution_count": null,
      "outputs": []
    },
    {
      "cell_type": "markdown",
      "source": [
        "# Exercise 8: 2x2 Grid of Subplot\n",
        "- Plot the following in each subplot:\n",
        "- (1, 1): Scatter plot of total_bill vs tip\n",
        "- (1, 2): Histogram of total_bill\n",
        "- (2, 1): Box plot of total_bill by day\n",
        "- (2, 2): lineplot plot of total_bill vs tip"
      ],
      "metadata": {
        "id": "CvRWOqkJPG-Y"
      }
    },
    {
      "cell_type": "code",
      "source": [
        "import matplotlib.pyplot as plt\n",
        "import seaborn as sns\n",
        "\n",
        "# Load the Tips dataset\n",
        "tips = sns.load_dataset('tips')\n",
        "\n",
        "# Create a figure with a 2x2 grid of subplots\n",
        "plt.figure(figsize=(14, 10))\n",
        "\n",
        "# (1, 1): Scatter plot of total_bill vs tip\n",
        "plt.subplot(2, 2, 1)\n",
        "plt.scatter(tips['total_bill'], tips['tip'])\n",
        "plt.title('Total Bill vs Tip')\n",
        "plt.xlabel('Total Bill')\n",
        "plt.ylabel('Tip')\n",
        "\n",
        "# (1, 2): Histogram of total_bill\n",
        "plt.subplot(2, 2, 2)\n",
        "plt.hist(tips['total_bill'], bins=20, edgecolor='k')\n",
        "plt.title('Histogram of Total Bill')\n",
        "plt.xlabel('Total Bill')\n",
        "plt.ylabel('Frequency')\n",
        "\n",
        "# (2, 1): Box plot of total_bill by day\n",
        "plt.subplot(2, 2, 3)\n",
        "sns.boxplot(x='day', y='total_bill', data=tips)\n",
        "plt.title('Total Bill by Day')\n",
        "plt.xlabel('Day')\n",
        "plt.ylabel('Total Bill')\n",
        "\n",
        "# (2, 2): Line plot of total_bill vs tip\n",
        "plt.subplot(2, 2, 4)\n",
        "sns.lineplot(x='total_bill', y='tip', data=tips)\n",
        "plt.title('Total Bill vs Tip (Line Plot)')\n",
        "plt.xlabel('Total Bill')\n",
        "plt.ylabel('Tip')\n",
        "\n",
        "# Adjust layout\n",
        "plt.tight_layout()\n",
        "\n",
        "# Show the plots\n",
        "plt.show()"
      ],
      "metadata": {
        "id": "QeUMJYfOcv4f"
      },
      "execution_count": null,
      "outputs": []
    },
    {
      "cell_type": "code",
      "source": [
        "plt.boxplot(df[\"total_bill\"])\n",
        "plt.show()"
      ],
      "metadata": {
        "id": "hTbxmx2PdWa8"
      },
      "execution_count": null,
      "outputs": []
    },
    {
      "cell_type": "markdown",
      "source": [
        "# Exercise 9: Customizing Subplot:\n",
        "- Plot the following in each subplot:\n",
        "- (1, 1): Line plot of total_bill vs tip\n",
        "- (2, 1): Bar plot of the average tip amount for each day\n",
        "- (3, 1): Heatmap of the correlation matrix\n"
      ],
      "metadata": {
        "id": "wU4xVclCPhsZ"
      }
    },
    {
      "cell_type": "code",
      "source": [
        "# Load the Tips dataset\n",
        "tips = sns.load_dataset('tips')\n",
        "\n",
        "# Create a figure with a 3x1 grid of subplots\n",
        "plt.figure(figsize=(10, 18))\n",
        "\n",
        "# (1, 1): Line plot of total_bill vs tip\n",
        "plt.subplot(3, 1, 1)\n",
        "sns.lineplot(x='total_bill', y='tip', data=tips)\n",
        "plt.title('Total Bill vs Tip (Line Plot)')\n",
        "plt.xlabel('Total Bill')\n",
        "plt.ylabel('Tip')\n",
        "\n",
        "# (2, 1): Bar plot of the average tip amount for each day\n",
        "plt.subplot(3, 1, 2)\n",
        "sns.barplot(x='day', y='tip', data=tips, errorbar=('ci', False))\n",
        "plt.title('Average Tip Amount by Day')\n",
        "plt.xlabel('Day')\n",
        "plt.ylabel('Average Tip')\n",
        "\n",
        "# (3, 1): Heatmap of the correlation matrix\n",
        "plt.subplot(3, 1, 3)\n",
        "corr = tips.corr(numeric_only=True)\n",
        "sns.heatmap(corr, annot=True, cmap='coolwarm')\n",
        "plt.title('Correlation Matrix Heatmap')\n",
        "\n",
        "# Adjust layout\n",
        "plt.tight_layout(h_pad=5,w_pad=5)\n",
        "\n",
        "# Show the plots\n",
        "plt.show()"
      ],
      "metadata": {
        "id": "W7mC0GfJlATV"
      },
      "execution_count": null,
      "outputs": []
    },
    {
      "cell_type": "code",
      "source": [
        "plt.pie(df[\"smoker\"].value_counts(), autopct='%1.0f%%',colors=[\"teal\",\"orange\"],labels=tips[\"smoker\"].value_counts().index)\n",
        "plt.legend()\n",
        "plt.show()"
      ],
      "metadata": {
        "id": "yidOakjtlIao"
      },
      "execution_count": null,
      "outputs": []
    },
    {
      "cell_type": "code",
      "source": [
        "plt.pie(tips[\"sex\"].value_counts(), autopct='%1.0f%%',colors=[\"teal\",\"orange\"],labels=tips[\"smoker\"].value_counts().index)\n",
        "plt.legend()\n",
        "plt.show()"
      ],
      "metadata": {
        "id": "pgap6kdDmkfE"
      },
      "execution_count": null,
      "outputs": []
    },
    {
      "cell_type": "code",
      "source": [],
      "metadata": {
        "id": "0qMkbKkzm4PP"
      },
      "execution_count": null,
      "outputs": []
    }
  ]
}